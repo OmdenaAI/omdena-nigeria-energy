{
  "nbformat": 4,
  "nbformat_minor": 0,
  "metadata": {
    "colab": {
      "name": "Energy_Availability.ipynb",
      "provenance": [],
      "collapsed_sections": []
    },
    "kernelspec": {
      "name": "python3",
      "display_name": "Python 3"
    },
    "language_info": {
      "name": "python"
    }
  },
  "cells": [
    {
      "cell_type": "code",
      "metadata": {
        "id": "K5Al7isjhs6b"
      },
      "source": [
        "try:\n",
        "    import geemap, ee\n",
        "except ModuleNotFoundError:\n",
        "    if 'google.colab' in str(get_ipython()):\n",
        "        print(\"package not found, installing w/ pip in Google Colab...\") ## for google collab\n",
        "        !pip install geemap\n",
        "    else:\n",
        "        print(\"package not found, installing w/ conda...\")\n",
        "        !conda install mamba -c conda-forge -y   ## for your local directory\n",
        "        !mamba install geemap -c conda-forge -y\n",
        "    import geemap, ee\n",
        "\n",
        "\n"
      ],
      "execution_count": 69,
      "outputs": []
    },
    {
      "cell_type": "code",
      "metadata": {
        "id": "G8AqFwcTkA-2"
      },
      "source": [
        "try:\n",
        "        ee.Initialize()    ## This is done anytime you want to use the google earth engine API.\n",
        "except Exception as e:\n",
        "        ee.Authenticate()  ## To help google earth engine link your account\n",
        "        ee.Initialize()"
      ],
      "execution_count": 70,
      "outputs": []
    },
    {
      "cell_type": "code",
      "metadata": {
        "colab": {
          "base_uri": "https://localhost:8080/"
        },
        "id": "r4Gfql8kf89l",
        "outputId": "b27ae41c-22dd-4d47-f0db-65d43b500db5"
      },
      "source": [
        "\n",
        "# you 1st need to right click on the shared folder and select 'Add to my Drive'\n",
        "from google.colab import drive\n",
        "drive.mount('/content/drive/')"
      ],
      "execution_count": 71,
      "outputs": [
        {
          "output_type": "stream",
          "text": [
            "Drive already mounted at /content/drive/; to attempt to forcibly remount, call drive.mount(\"/content/drive/\", force_remount=True).\n"
          ],
          "name": "stdout"
        }
      ]
    },
    {
      "cell_type": "code",
      "metadata": {
        "id": "5z7yquoYjLMv"
      },
      "source": [
        "import pandas as pd\n",
        "import ee\n",
        "import geemap\n",
        "\n",
        "#import geopandas as gpd\n",
        "#import rasterio\n",
        "#import gdal"
      ],
      "execution_count": 72,
      "outputs": []
    },
    {
      "cell_type": "code",
      "metadata": {
        "id": "WW2GQGmFjCz8"
      },
      "source": [
        "# Accessing LGA level polygon boundaries of Nigeria using GIS extracted dataset \n",
        "#nig_lga = ee.FeatureCollection(\"users/ayanmiayan2010/LGA\") \\\n",
        "#            .filter(ee.Filter.eq('LGA', 'Nigeria'))"
      ],
      "execution_count": 73,
      "outputs": []
    },
    {
      "cell_type": "code",
      "metadata": {
        "id": "LCCZaQ8ZzHvT"
      },
      "source": [
        "# Accessing state level polygon boundaries of Nigeria using FAO dataset\n",
        "nigeria = ee.FeatureCollection(\"FAO/GAUL/2015/level2\") \\\n",
        "            .filter(ee.Filter.eq('ADM0_NAME', 'Nigeria'))"
      ],
      "execution_count": 75,
      "outputs": []
    },
    {
      "cell_type": "code",
      "metadata": {
        "id": "_NPGgQMalKj6"
      },
      "source": [
        "# Access the solar potential raster image downloaded as asset\n",
        "pvpotential = ee.Image(\"users/ayanmiayan2010/PVOUT_NIG\")"
      ],
      "execution_count": 76,
      "outputs": []
    },
    {
      "cell_type": "code",
      "metadata": {
        "id": "MpnUiJ4om4zr"
      },
      "source": [
        "# Add reducer output to the Features in the collection.\n",
        "pvpot = pvpotential.reduceRegions(\n",
        "  collection = nigeria,\n",
        "  reducer = ee.Reducer.mean(),\n",
        ");"
      ],
      "execution_count": 77,
      "outputs": []
    },
    {
      "cell_type": "code",
      "metadata": {
        "id": "HPL_KbsPnUI9"
      },
      "source": [
        "#Converting the GEE Feature Collection into a pandas dataframe\n",
        "pvPotdf = geemap.ee_to_pandas(pvpot)"
      ],
      "execution_count": 78,
      "outputs": []
    },
    {
      "cell_type": "code",
      "metadata": {
        "colab": {
          "base_uri": "https://localhost:8080/",
          "height": 615
        },
        "id": "y5aJB3wK0qwt",
        "outputId": "4c3c0e46-e127-4af7-f03b-a41fe7c6c83b"
      },
      "source": [
        "pvPotdf"
      ],
      "execution_count": 79,
      "outputs": [
        {
          "output_type": "execute_result",
          "data": {
            "text/html": [
              "<div>\n",
              "<style scoped>\n",
              "    .dataframe tbody tr th:only-of-type {\n",
              "        vertical-align: middle;\n",
              "    }\n",
              "\n",
              "    .dataframe tbody tr th {\n",
              "        vertical-align: top;\n",
              "    }\n",
              "\n",
              "    .dataframe thead th {\n",
              "        text-align: right;\n",
              "    }\n",
              "</style>\n",
              "<table border=\"1\" class=\"dataframe\">\n",
              "  <thead>\n",
              "    <tr style=\"text-align: right;\">\n",
              "      <th></th>\n",
              "      <th>ADM0_CODE</th>\n",
              "      <th>ADM0_NAME</th>\n",
              "      <th>ADM1_CODE</th>\n",
              "      <th>ADM1_NAME</th>\n",
              "      <th>ADM2_CODE</th>\n",
              "      <th>ADM2_NAME</th>\n",
              "      <th>DISP_AREA</th>\n",
              "      <th>EXP2_YEAR</th>\n",
              "      <th>STATUS</th>\n",
              "      <th>STR2_YEAR</th>\n",
              "      <th>Shape_Area</th>\n",
              "      <th>Shape_Leng</th>\n",
              "      <th>mean</th>\n",
              "    </tr>\n",
              "  </thead>\n",
              "  <tbody>\n",
              "    <tr>\n",
              "      <th>0</th>\n",
              "      <td>182</td>\n",
              "      <td>Nigeria</td>\n",
              "      <td>65709</td>\n",
              "      <td>Sokoto</td>\n",
              "      <td>190949</td>\n",
              "      <td>Tangaza</td>\n",
              "      <td>NO</td>\n",
              "      <td>3000</td>\n",
              "      <td>Member State</td>\n",
              "      <td>1999</td>\n",
              "      <td>0.203399</td>\n",
              "      <td>1.915226</td>\n",
              "      <td>4.696233</td>\n",
              "    </tr>\n",
              "    <tr>\n",
              "      <th>1</th>\n",
              "      <td>182</td>\n",
              "      <td>Nigeria</td>\n",
              "      <td>2216</td>\n",
              "      <td>Borno</td>\n",
              "      <td>190950</td>\n",
              "      <td>Abadam</td>\n",
              "      <td>NO</td>\n",
              "      <td>3000</td>\n",
              "      <td>Member State</td>\n",
              "      <td>1999</td>\n",
              "      <td>0.204833</td>\n",
              "      <td>2.808507</td>\n",
              "      <td>4.751515</td>\n",
              "    </tr>\n",
              "    <tr>\n",
              "      <th>2</th>\n",
              "      <td>182</td>\n",
              "      <td>Nigeria</td>\n",
              "      <td>2216</td>\n",
              "      <td>Borno</td>\n",
              "      <td>190951</td>\n",
              "      <td>Lake chad</td>\n",
              "      <td>NO</td>\n",
              "      <td>3000</td>\n",
              "      <td>Member State</td>\n",
              "      <td>1999</td>\n",
              "      <td>0.439860</td>\n",
              "      <td>4.543677</td>\n",
              "      <td>4.702281</td>\n",
              "    </tr>\n",
              "    <tr>\n",
              "      <th>3</th>\n",
              "      <td>182</td>\n",
              "      <td>Nigeria</td>\n",
              "      <td>2240</td>\n",
              "      <td>Yobe</td>\n",
              "      <td>190952</td>\n",
              "      <td>Yusufari</td>\n",
              "      <td>NO</td>\n",
              "      <td>3000</td>\n",
              "      <td>Member State</td>\n",
              "      <td>1999</td>\n",
              "      <td>0.356411</td>\n",
              "      <td>3.409977</td>\n",
              "      <td>4.771416</td>\n",
              "    </tr>\n",
              "    <tr>\n",
              "      <th>4</th>\n",
              "      <td>182</td>\n",
              "      <td>Nigeria</td>\n",
              "      <td>2226</td>\n",
              "      <td>Katsina</td>\n",
              "      <td>190953</td>\n",
              "      <td>Mashi</td>\n",
              "      <td>NO</td>\n",
              "      <td>3000</td>\n",
              "      <td>Member State</td>\n",
              "      <td>1999</td>\n",
              "      <td>0.075656</td>\n",
              "      <td>1.289336</td>\n",
              "      <td>4.803762</td>\n",
              "    </tr>\n",
              "    <tr>\n",
              "      <th>...</th>\n",
              "      <td>...</td>\n",
              "      <td>...</td>\n",
              "      <td>...</td>\n",
              "      <td>...</td>\n",
              "      <td>...</td>\n",
              "      <td>...</td>\n",
              "      <td>...</td>\n",
              "      <td>...</td>\n",
              "      <td>...</td>\n",
              "      <td>...</td>\n",
              "      <td>...</td>\n",
              "      <td>...</td>\n",
              "      <td>...</td>\n",
              "    </tr>\n",
              "    <tr>\n",
              "      <th>770</th>\n",
              "      <td>182</td>\n",
              "      <td>Nigeria</td>\n",
              "      <td>65709</td>\n",
              "      <td>Sokoto</td>\n",
              "      <td>191408</td>\n",
              "      <td>Isa</td>\n",
              "      <td>NO</td>\n",
              "      <td>3000</td>\n",
              "      <td>Member State</td>\n",
              "      <td>1000</td>\n",
              "      <td>0.173053</td>\n",
              "      <td>2.308026</td>\n",
              "      <td>4.697784</td>\n",
              "    </tr>\n",
              "    <tr>\n",
              "      <th>771</th>\n",
              "      <td>182</td>\n",
              "      <td>Nigeria</td>\n",
              "      <td>2227</td>\n",
              "      <td>Kebbi</td>\n",
              "      <td>22886</td>\n",
              "      <td>Bagudo</td>\n",
              "      <td>NO</td>\n",
              "      <td>3000</td>\n",
              "      <td>Member State</td>\n",
              "      <td>1000</td>\n",
              "      <td>0.403523</td>\n",
              "      <td>2.967221</td>\n",
              "      <td>4.434699</td>\n",
              "    </tr>\n",
              "    <tr>\n",
              "      <th>772</th>\n",
              "      <td>182</td>\n",
              "      <td>Nigeria</td>\n",
              "      <td>65710</td>\n",
              "      <td>Zamfara</td>\n",
              "      <td>23103</td>\n",
              "      <td>Zurmi</td>\n",
              "      <td>NO</td>\n",
              "      <td>3000</td>\n",
              "      <td>Member State</td>\n",
              "      <td>1000</td>\n",
              "      <td>0.230798</td>\n",
              "      <td>2.567153</td>\n",
              "      <td>4.707865</td>\n",
              "    </tr>\n",
              "    <tr>\n",
              "      <th>773</th>\n",
              "      <td>182</td>\n",
              "      <td>Nigeria</td>\n",
              "      <td>2231</td>\n",
              "      <td>Niger</td>\n",
              "      <td>22940</td>\n",
              "      <td>Borgu</td>\n",
              "      <td>NO</td>\n",
              "      <td>3000</td>\n",
              "      <td>Member State</td>\n",
              "      <td>1000</td>\n",
              "      <td>0.851470</td>\n",
              "      <td>5.288074</td>\n",
              "      <td>4.319234</td>\n",
              "    </tr>\n",
              "    <tr>\n",
              "      <th>774</th>\n",
              "      <td>182</td>\n",
              "      <td>Nigeria</td>\n",
              "      <td>2230</td>\n",
              "      <td>Lagos</td>\n",
              "      <td>22928</td>\n",
              "      <td>Eti-Osa</td>\n",
              "      <td>NO</td>\n",
              "      <td>3000</td>\n",
              "      <td>Member State</td>\n",
              "      <td>1000</td>\n",
              "      <td>0.014824</td>\n",
              "      <td>0.851062</td>\n",
              "      <td>3.819987</td>\n",
              "    </tr>\n",
              "  </tbody>\n",
              "</table>\n",
              "<p>775 rows × 13 columns</p>\n",
              "</div>"
            ],
            "text/plain": [
              "     ADM0_CODE ADM0_NAME  ADM1_CODE  ... Shape_Area  Shape_Leng      mean\n",
              "0          182   Nigeria      65709  ...   0.203399    1.915226  4.696233\n",
              "1          182   Nigeria       2216  ...   0.204833    2.808507  4.751515\n",
              "2          182   Nigeria       2216  ...   0.439860    4.543677  4.702281\n",
              "3          182   Nigeria       2240  ...   0.356411    3.409977  4.771416\n",
              "4          182   Nigeria       2226  ...   0.075656    1.289336  4.803762\n",
              "..         ...       ...        ...  ...        ...         ...       ...\n",
              "770        182   Nigeria      65709  ...   0.173053    2.308026  4.697784\n",
              "771        182   Nigeria       2227  ...   0.403523    2.967221  4.434699\n",
              "772        182   Nigeria      65710  ...   0.230798    2.567153  4.707865\n",
              "773        182   Nigeria       2231  ...   0.851470    5.288074  4.319234\n",
              "774        182   Nigeria       2230  ...   0.014824    0.851062  3.819987\n",
              "\n",
              "[775 rows x 13 columns]"
            ]
          },
          "metadata": {},
          "execution_count": 79
        }
      ]
    },
    {
      "cell_type": "code",
      "metadata": {
        "id": "fQX-4b_kpY8y",
        "colab": {
          "base_uri": "https://localhost:8080/",
          "height": 422
        },
        "outputId": "6d7f0c4f-7aa4-405c-d7a7-ee0c6a87fe41"
      },
      "source": [
        "# Sort the dataframe by PV potential \n",
        "pvPotdf[['ADM2_NAME','mean']].sort_values(by='mean', ascending = False)"
      ],
      "execution_count": 80,
      "outputs": [
        {
          "output_type": "execute_result",
          "data": {
            "text/html": [
              "<div>\n",
              "<style scoped>\n",
              "    .dataframe tbody tr th:only-of-type {\n",
              "        vertical-align: middle;\n",
              "    }\n",
              "\n",
              "    .dataframe tbody tr th {\n",
              "        vertical-align: top;\n",
              "    }\n",
              "\n",
              "    .dataframe thead th {\n",
              "        text-align: right;\n",
              "    }\n",
              "</style>\n",
              "<table border=\"1\" class=\"dataframe\">\n",
              "  <thead>\n",
              "    <tr style=\"text-align: right;\">\n",
              "      <th></th>\n",
              "      <th>ADM2_NAME</th>\n",
              "      <th>mean</th>\n",
              "    </tr>\n",
              "  </thead>\n",
              "  <tbody>\n",
              "    <tr>\n",
              "      <th>4</th>\n",
              "      <td>Mashi</td>\n",
              "      <td>4.803762</td>\n",
              "    </tr>\n",
              "    <tr>\n",
              "      <th>6</th>\n",
              "      <td>Mai'Adua</td>\n",
              "      <td>4.795424</td>\n",
              "    </tr>\n",
              "    <tr>\n",
              "      <th>20</th>\n",
              "      <td>Dutsi</td>\n",
              "      <td>4.791589</td>\n",
              "    </tr>\n",
              "    <tr>\n",
              "      <th>22</th>\n",
              "      <td>Sandamu</td>\n",
              "      <td>4.789842</td>\n",
              "    </tr>\n",
              "    <tr>\n",
              "      <th>485</th>\n",
              "      <td>Kaita</td>\n",
              "      <td>4.787656</td>\n",
              "    </tr>\n",
              "    <tr>\n",
              "      <th>...</th>\n",
              "      <td>...</td>\n",
              "      <td>...</td>\n",
              "    </tr>\n",
              "    <tr>\n",
              "      <th>766</th>\n",
              "      <td>Gokana</td>\n",
              "      <td>3.412188</td>\n",
              "    </tr>\n",
              "    <tr>\n",
              "      <th>761</th>\n",
              "      <td>Mkpat Enin</td>\n",
              "      <td>3.410455</td>\n",
              "    </tr>\n",
              "    <tr>\n",
              "      <th>443</th>\n",
              "      <td>Tai</td>\n",
              "      <td>3.396330</td>\n",
              "    </tr>\n",
              "    <tr>\n",
              "      <th>441</th>\n",
              "      <td>Khana</td>\n",
              "      <td>3.390913</td>\n",
              "    </tr>\n",
              "    <tr>\n",
              "      <th>451</th>\n",
              "      <td>Nembe</td>\n",
              "      <td>3.358800</td>\n",
              "    </tr>\n",
              "  </tbody>\n",
              "</table>\n",
              "<p>775 rows × 2 columns</p>\n",
              "</div>"
            ],
            "text/plain": [
              "      ADM2_NAME      mean\n",
              "4         Mashi  4.803762\n",
              "6      Mai'Adua  4.795424\n",
              "20        Dutsi  4.791589\n",
              "22      Sandamu  4.789842\n",
              "485       Kaita  4.787656\n",
              "..          ...       ...\n",
              "766      Gokana  3.412188\n",
              "761  Mkpat Enin  3.410455\n",
              "443         Tai  3.396330\n",
              "441       Khana  3.390913\n",
              "451       Nembe  3.358800\n",
              "\n",
              "[775 rows x 2 columns]"
            ]
          },
          "metadata": {},
          "execution_count": 80
        }
      ]
    },
    {
      "cell_type": "code",
      "metadata": {
        "id": "M8obZsh9zsTo"
      },
      "source": [
        ""
      ],
      "execution_count": null,
      "outputs": []
    }
  ]
}
